{
 "cells": [
  {
   "cell_type": "code",
   "execution_count": 7,
   "id": "1c71a985",
   "metadata": {},
   "outputs": [
    {
     "name": "stdout",
     "output_type": "stream",
     "text": [
      "Start messaging with the bot (type quit to stop)!\n",
      "User: helo\n",
      "1/1 [==============================] - 0s 95ms/step\n",
      "ChatBot: Hello\n",
      "User: how are you\n",
      "1/1 [==============================] - 0s 48ms/step\n",
      "ChatBot: Any time!\n",
      "User: fuck off\n",
      "1/1 [==============================] - 0s 37ms/step\n",
      "ChatBot: Hello\n",
      "User: halo\n",
      "1/1 [==============================] - 0s 31ms/step\n",
      "ChatBot: Hi there\n",
      "User: hola\n",
      "1/1 [==============================] - 0s 47ms/step\n",
      "ChatBot: Hi\n",
      "User: bonjour\n",
      "1/1 [==============================] - 0s 51ms/step\n",
      "ChatBot: Hi\n",
      "User: namaste\n",
      "1/1 [==============================] - 0s 29ms/step\n",
      "ChatBot: Hi there\n",
      "User: hi there\n",
      "1/1 [==============================] - 0s 47ms/step\n",
      "ChatBot: Hi there\n",
      "User: quit\n"
     ]
    }
   ],
   "source": [
    "import json\n",
    "import numpy as np\n",
    "from tensorflow import keras\n",
    "from sklearn.preprocessing import LabelEncoder\n",
    "\n",
    "import colorama\n",
    "colorama.init()\n",
    "from colorama import Fore, Style, Back\n",
    "\n",
    "import random\n",
    "import pickle\n",
    "\n",
    "with open(\"intents.json\") as file:\n",
    "    data = json.load(file)\n",
    "    \n",
    "    \n",
    "def chat():\n",
    "    # load trained model\n",
    "    model = keras.models.load_model('chat_model')\n",
    "    \n",
    "    #load tokenizer object\n",
    "    with open('tokenizer.pickle', 'rb') as handle:\n",
    "        tokenizer = pickle.load(handle)\n",
    "        \n",
    "        \n",
    "    #load label encoder object\n",
    "    \n",
    "    with open('label_encoder.pickle', 'rb')  as enc:\n",
    "        lbl_encoder = pickle.load(enc)\n",
    "        \n",
    "    # parameters\n",
    "    \n",
    "    max_len = 20\n",
    "    \n",
    "    while True:\n",
    "        print(Fore.LIGHTBLUE_EX + \"User: \" + Style.RESET_ALL, end=\"\")\n",
    "        inp = input()\n",
    "        if inp.lower() == \"quit\":\n",
    "            break\n",
    "\n",
    "        result = model.predict(keras.preprocessing.sequence.pad_sequences(tokenizer.texts_to_sequences([inp]),\n",
    "                                             truncating='post', maxlen=max_len))\n",
    "        tag = lbl_encoder.inverse_transform([np.argmax(result)])\n",
    "\n",
    "        for i in data['intents']:\n",
    "            if i['tag'] == tag:\n",
    "                print(Fore.GREEN + \"ChatBot:\" + Style.RESET_ALL , np.random.choice(i['responses']))\n",
    "\n",
    "        # print(Fore.GREEN + \"ChatBot:\" + Style.RESET_ALL,random.choice(responses))\n",
    "\n",
    "print(Fore.YELLOW + \"Start messaging with the bot (type quit to stop)!\" + Style.RESET_ALL)\n",
    "chat()"
   ]
  },
  {
   "cell_type": "code",
   "execution_count": null,
   "id": "f2aa73aa",
   "metadata": {},
   "outputs": [],
   "source": []
  },
  {
   "cell_type": "code",
   "execution_count": null,
   "id": "7f873e92",
   "metadata": {},
   "outputs": [],
   "source": []
  }
 ],
 "metadata": {
  "kernelspec": {
   "display_name": "Python 3 (ipykernel)",
   "language": "python",
   "name": "python3"
  },
  "language_info": {
   "codemirror_mode": {
    "name": "ipython",
    "version": 3
   },
   "file_extension": ".py",
   "mimetype": "text/x-python",
   "name": "python",
   "nbconvert_exporter": "python",
   "pygments_lexer": "ipython3",
   "version": "3.10.9"
  }
 },
 "nbformat": 4,
 "nbformat_minor": 5
}
